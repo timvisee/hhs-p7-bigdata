{
 "cells": [
  {
   "cell_type": "code",
   "execution_count": 16,
   "metadata": {
    "collapsed": false
   },
   "outputs": [
    {
     "name": "stdout",
     "output_type": "stream",
     "text": [
      "Loading file  ./ratings_train.csv ...\n",
      "Loading file  ./movies.csv ...\n"
     ]
    }
   ],
   "source": [
    "from pyspark.mllib.recommendation import ALS\n",
    "import math\n",
    "\n",
    "# Some constants\n",
    "DATASET_RATINGS_PATH = \"./ratings_train.csv\"\n",
    "DATASET_MOVIES_PATH = \"./movies.csv\"\n",
    "\n",
    "# Define some helper functions\n",
    "def readCSV(fname, removeHeader=False, separator=','):\n",
    "    print(\"Loading file \", fname, \"...\")\n",
    "    rdd = sc.textFile(fname)\n",
    "    if removeHeader:\n",
    "        firstline = rdd.first()\n",
    "        rdd = rdd.filter(lambda x: x != firstline)\n",
    "    return rdd.map(lambda x: x.split(separator))\n",
    "\n",
    "# Load the ratings data\n",
    "ratings_data = readCSV(DATASET_RATINGS_PATH, removeHeader=True)\n",
    "\n",
    "# Load the movies data\n",
    "movies_data = readCSV(DATASET_MOVIES_PATH, removeHeader=True)\n",
    "\n",
    "# Parse the ratings data\n",
    "# [user_id, movie_id, rating, timestamp] -> (user_id, movie_id, rating)\n",
    "ratings_data = ratings_data.map(lambda x: tuple(x[0].split('::')[:-1]))\\\n",
    "    .cache()\n",
    "print(\"There are\", ratings_data.count(), \"ratings in the dataset.\")\n",
    "\n",
    "# Parse the movies data\n",
    "# [id, title, genres[]] -> (id, title)\n",
    "movies_data = movies_data.map(lambda x: tuple([x[0], x[1]]))\\\n",
    "    .cache()\n",
    "print(\"There are\", movies_data.count(), \"movies in the dataset.\")\n"
   ]
  }
 ],
 "metadata": {
  "kernelspec": {
   "display_name": "Python 3",
   "language": "python",
   "name": "python3"
  },
  "language_info": {
   "codemirror_mode": {
    "name": "ipython",
    "version": 3
   },
   "file_extension": ".py",
   "mimetype": "text/x-python",
   "name": "python",
   "nbconvert_exporter": "python",
   "pygments_lexer": "ipython3",
   "version": "3.5.2"
  }
 },
 "nbformat": 4,
 "nbformat_minor": 2
}
