{
 "cells": [
  {
   "cell_type": "code",
   "execution_count": 5,
   "metadata": {
    "collapsed": false,
    "deletable": true,
    "editable": true
   },
   "outputs": [
    {
     "name": "stdout",
     "output_type": "stream",
     "text": [
      "Loading file  ./movies.csv ...\n",
      "Loading file  ./ratings_train.csv ...\n",
      "First movie: ['1', 'Toy Story (1995)', 'Adventure|Animation|Children|Comedy|Fantasy']\n",
      "First rating: ['11973::11::3.0::943354625']\n",
      "First movie, processed: ['1', 'Toy Story (1995)', ['Adventure', 'Animation', 'Children', 'Comedy', 'Fantasy']]\n",
      "First rating, processed: ['11973', '11', '3.0', '943354625']\n",
      "Calculating ratings average...\n",
      "Avg rating: 3.519642305478569\n"
     ]
    }
   ],
   "source": [
    "# Define some helper functions\n",
    "def readCSV(fname, removeHeader=False, separator=','):\n",
    "    print(\"Loading file \", fname, \"...\")\n",
    "    rdd = sc.textFile(fname)\n",
    "    if removeHeader:\n",
    "        firstline = rdd.first()\n",
    "        rdd = rdd.filter(lambda x: x != firstline)\n",
    "    return rdd.map(lambda x: x.split(separator))\n",
    "\n",
    "# Load the movies and ratings database\n",
    "movies = readCSV(\"./movies.csv\", removeHeader=True)\n",
    "ratings = readCSV(\"./ratings_train.csv\", removeHeader=True)\n",
    "\n",
    "# Print the first entries to debug whether the data is loaded correctly\n",
    "print(\"First movie:\", movies.first())\n",
    "print(\"First rating:\", ratings.first())\n",
    "\n",
    "# Parse the movie genres\n",
    "# [id, name, genres[]]\n",
    "movies = movies.map(lambda x: [x[0], x[1], x[2].split('|')])\n",
    "print(\"First movie, processed:\", movies.first())\n",
    "\n",
    "# Parse the rating data\n",
    "# [user_id, movie_id, rating, timestamp]\n",
    "ratings = ratings.map(lambda x: x[0].split('::'))\n",
    "print(\"First rating, processed:\", ratings.first())\n",
    "\n",
    "# TEST: Calculate rating averages\n",
    "print(\"Calculating ratings average...\")\n",
    "user_ratings = ratings.map(lambda x: float(x[2]))\n",
    "print(\"Avg rating:\", user_ratings.sum()/user_ratings.count())"
   ]
  }
 ],
 "metadata": {
  "kernelspec": {
   "display_name": "Python 3",
   "language": "python",
   "name": "python3"
  },
  "language_info": {
   "codemirror_mode": {
    "name": "ipython",
    "version": 3
   },
   "file_extension": ".py",
   "mimetype": "text/x-python",
   "name": "python",
   "nbconvert_exporter": "python",
   "pygments_lexer": "ipython3",
   "version": "3.5.2"
  }
 },
 "nbformat": 4,
 "nbformat_minor": 2
}
