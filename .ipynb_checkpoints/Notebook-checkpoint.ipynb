{
 "cells": [
  {
   "cell_type": "code",
   "execution_count": 36,
   "metadata": {
    "collapsed": false,
    "deletable": true,
    "editable": true
   },
   "outputs": [
    {
     "name": "stdout",
     "output_type": "stream",
     "text": [
      "Loading file  ./movies.csv ...\n",
      "Loading file  ./ratings_train.csv ...\n",
      "First movie: ['1', 'Toy Story (1995)', 'Adventure|Animation|Children|Comedy|Fantasy']\n",
      "First rating: ['11973::11::3.0::943354625']\n",
      "First movie, processed: ['1', 'Toy Story (1995)', ['Adventure', 'Animation', 'Children', 'Comedy', 'Fantasy']]\n",
      "First rating, processed: ['11973', '11', '3.0', '943354625']\n",
      "Determining movie suggestions for user 11973 ...\n",
      "[{('529', '4.0', '943354197'), ('14', '4.0', '943353278'), ('2336', '4.0', '943354197'), ('11', '3.0', '943354625'), ('1721', '5.0', '943353411'), ('2268', '4.0', '943354292'), ('590', '3.0', '943354241'), ('161', '4.0', '943354197'), ('36', '3.0', '943354345'), ('1358', '4.0', '943354345'), ('994', '4.0', '943354503'), ('110', '5.0', '943354384'), ('608', '5.0', '943354345'), ('1213', '5.0', '943353614'), ('1784', '5.0', '943354241'), ('2433', '3.0', '943354503'), ('300', '4.0', '943354345'), ('1357', '3.0', '943354292'), ('1594', '5.0', '943354345'), ('1095', '5.0', '943353747'), ('1233', '4.0', '943354462'), ('1711', '2.0', '943353110'), ('2710', '2.0', '943353912'), ('2289', '5.0', '943354692'), ('2324', '5.0', '943354109'), ('541', '5.0', '943353851'), ('2583', '3.0', '943355941'), ('1704', '4.0', '943354692'), ('1653', '4.0', '943354346'), ('593', '5.0', '943353565'), ('318', '5.0', '943353152'), ('32', '2.0', '943354739'), ('2291', '4.0', '943354692'), ('296', '5.0', '943354384'), ('805', '4.0', '943354503'), ('2571', '3.0', '943355691'), ('1693', '3.0', '943354462'), ('647', '4.0', '943354503'), ('527', '5.0', '943353995'), ('1810', '4.0', '943354543'), ('2599', '3.0', '943355759'), ('1411', '3.0', '943354625')}]\n"
     ]
    }
   ],
   "source": [
    "# Define some helper functions\n",
    "def readCSV(fname, removeHeader=False, separator=','):\n",
    "    print(\"Loading file \", fname, \"...\")\n",
    "    rdd = sc.textFile(fname)\n",
    "    if removeHeader:\n",
    "        firstline = rdd.first()\n",
    "        rdd = rdd.filter(lambda x: x != firstline)\n",
    "    return rdd.map(lambda x: x.split(separator))\n",
    "\n",
    "# Load the movies and ratings database\n",
    "movies = readCSV(\"./movies.csv\", removeHeader=True)\n",
    "ratings = readCSV(\"./ratings_train.csv\", removeHeader=True)\n",
    "\n",
    "# Print the first entries to debug whether the data is loaded correctly\n",
    "print(\"First movie:\", movies.first())\n",
    "print(\"First rating:\", ratings.first())\n",
    "\n",
    "# Parse the movie genres\n",
    "# [id, name, genres[]]\n",
    "movies = movies.map(lambda x: [x[0], x[1], x[2].split('|')])\n",
    "print(\"First movie, processed:\", movies.first())\n",
    "\n",
    "# Parse the rating data\n",
    "# [user_id, movie_id, rating, timestamp]\n",
    "ratings = ratings.map(lambda x: x[0].split('::'))\n",
    "print(\"First rating, processed:\", ratings.first())\n",
    "\n",
    "# Select the user to suggest movies for\n",
    "client = ratings.first();\n",
    "print(\"Determining movie suggestions for user\", client[0], \"...\")\n",
    "\n",
    "def addToSet(input_set, value):\n",
    "    input_set.add(value)\n",
    "    return input_set\n",
    "\n",
    "# Group all ratings by their user keys\n",
    "user_ratings = ratings.map(lambda x: (x[0], tuple(x[1:])))\\\n",
    "                   .aggregateByKey(\\\n",
    "                       set(), # initial value for an accumulator \\\n",
    "                       addToSet, # function to add a value to an accumulator \\\n",
    "                       lambda r1, r2: r1.union(r2) # function to merge two accumulators \\\n",
    "                   )\n",
    "\n",
    "# Get the ratings for the selected client\n",
    "client_ratings = user_ratings.lookup(client[0])\n",
    "print(\"Client ratings:\", client_ratings)\n",
    "\n",
    "# TEST: Calculate rating averages\n",
    "# print(\"Calculating ratings average...\")\n",
    "# user_ratings = ratings.map(lambda x: float(x[2]))\n",
    "# print(\"Avg rating:\", user_ratings.sum()/user_ratings.count())"
   ]
  },
  {
   "cell_type": "code",
   "execution_count": null,
   "metadata": {
    "collapsed": true
   },
   "outputs": [],
   "source": []
  }
 ],
 "metadata": {
  "kernelspec": {
   "display_name": "Python 3",
   "language": "python",
   "name": "python3"
  },
  "language_info": {
   "codemirror_mode": {
    "name": "ipython",
    "version": 3
   },
   "file_extension": ".py",
   "mimetype": "text/x-python",
   "name": "python",
   "nbconvert_exporter": "python",
   "pygments_lexer": "ipython3",
   "version": "3.5.2"
  }
 },
 "nbformat": 4,
 "nbformat_minor": 2
}
